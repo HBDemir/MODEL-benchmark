{
  "cells": [
    {
      "cell_type": "code",
      "execution_count": null,
      "metadata": {
        "colab": {
          "base_uri": "https://localhost:8080/"
        },
        "id": "WxomlbZ_qibQ",
        "outputId": "e4ea4a75-14c3-496b-aa2b-e75ab721de11"
      },
      "outputs": [],
      "source": [
        "from langchain.vectorstores import Chroma\n",
        "from langchain.document_loaders import PyPDFLoader\n",
        "from langchain.text_splitter import CharacterTextSplitter\n",
        "from langchain.embeddings import OpenAIEmbeddings\n",
        "from langchain.chat_models import ChatOpenAI\n",
        "import os\n",
        "import pandas as pd\n",
        "import tiktoken\n",
        "import numpy as np\n",
        "import matplotlib.pyplot as plt\n",
        "from sklearn.decomposition import PCA\n",
        "from sklearn.manifold import TSNE\n",
        "import seaborn as sns\n",
        "import html\n",
        "from datetime import datetime\n",
        "from langchain_openai import OpenAIEmbeddings"
      ]
    },
    {
      "cell_type": "code",
      "execution_count": null,
      "metadata": {
        "colab": {
          "base_uri": "https://localhost:8080/"
        },
        "id": "fjDyB1HFqi5G",
        "outputId": "5fb5fe8d-9325-4f4f-c7fc-418e267f1ded"
      },
      "outputs": [],
      "source": [
        "pdf_folder = \"C:/Users/yasar/Belgeler/articles\"  # Kendi bilgisayarınızdaki yol"
      ]
    },
    {
      "cell_type": "code",
      "execution_count": null,
      "metadata": {
        "id": "mkSbwyDItQ31"
      },
      "outputs": [],
      "source": [
        "openai_api_key= os.getenv(\"OPENAI_API_KEY_OZU\")"
      ]
    },
    {
      "cell_type": "code",
      "execution_count": null,
      "metadata": {
        "id": "KlbwG0R7WkDh"
      },
      "outputs": [],
      "source": [
        "# 3. PDF'leri yükle, metinleri parçalara ayır\n",
        "all_docs = []\n",
        "for filename in os.listdir(pdf_folder):\n",
        "    if filename.endswith(\".pdf\"):\n",
        "        loader = PyPDFLoader(os.path.join(pdf_folder, filename))\n",
        "        docs = loader.load()\n",
        "        # PDF kaynak bilgisini metadataya ekle\n",
        "        for doc in docs:\n",
        "            doc.metadata['source_file'] = filename\n",
        "        all_docs.extend(docs)\n",
        "\n",
        "text_splitter = CharacterTextSplitter(chunk_size=300, chunk_overlap=200)\n",
        "split_docs = text_splitter.split_documents(all_docs)\n",
        "\n",
        "# Token sayısını kontrol et (isteğe bağlı)\n",
        "encoding = tiktoken.get_encoding(\"cl100k_base\")\n",
        "for i, doc in enumerate(split_docs[:10]):  # İlk 10 chunk'ı göster\n",
        "    tokens = encoding.encode(doc.page_content)\n",
        "    print(f\"Chunk {i}: {len(tokens)} tokens\")\n",
        "\n",
        "embeddings = OpenAIEmbeddings(openai_api_key=openai_api_key)\n"
      ]
    },
    {
      "cell_type": "code",
      "execution_count": null,
      "metadata": {
        "id": "dSFALkN7WnTQ"
      },
      "outputs": [],
      "source": [
        "# Chroma veritabanını batch'ler halinde oluştur\n",
        "from langchain.vectorstores import Chroma\n",
        "\n",
        "print(\"Chroma veritabanı batch'ler halinde oluşturuluyor...\")\n",
        "\n",
        "batch_size = 100\n",
        "persist_directory = \"./chroma_mof_db\"\n",
        "db = None\n",
        "\n",
        "for i in range(0, len(split_docs), batch_size):\n",
        "    batch = split_docs[i:i+batch_size]\n",
        "    if db is None:\n",
        "        db = Chroma.from_documents(\n",
        "            documents=batch,\n",
        "            embedding=embeddings,\n",
        "            persist_directory=persist_directory\n",
        "        )\n",
        "    else:\n",
        "        db.add_documents(batch)\n",
        "    print(f\"{i+len(batch)}/{len(split_docs)} parça işlendi\")\n",
        "\n",
        "db.persist()\n",
        "print(f\"{len(split_docs)} parça başarıyla işlendi ve veritabanına kaydedildi\")"
      ]
    },
    {
      "cell_type": "code",
      "execution_count": null,
      "metadata": {
        "id": "I1ig1LmmWqAq"
      },
      "outputs": [],
      "source": [
        "# 5. MOF toksisitesiyle ilgili bölümleri sorgula (Gelişmiş sorgu)\n",
        "toxicity_queries = [\n",
        "    \"MOF toxicity and cytotoxicity in biological systems\",\n",
        "    \"Toxic effects of metal-organic frameworks on cells\",\n",
        "    \"MOF biocompatibility and safety assessment\",\n",
        "    \"Cytotoxicity evaluation of metal-organic frameworks\",\n",
        "    \"Adverse health effects of MOFs\",\n",
        "    \"MOF-induced cell viability reduction\",\n",
        "    \"Toxicological profile of MOFs\",\n",
        "    \"MOF exposure and biological response\",\n",
        "    \"Toxicity mechanisms of metal-organic frameworks\",\n",
        "    \"MOF nanomaterials and their biocompatibility\"\n",
        "]\n",
        "\n",
        "# Birden fazla sorgu ile daha kapsamlı sonuçlar al\n",
        "all_retrieved_docs = []\n",
        "for query in toxicity_queries:\n",
        "    retrieved_docs = db.similarity_search(query, k=4)\n",
        "    all_retrieved_docs.extend(retrieved_docs)\n",
        "\n",
        "# Benzersiz dokümanları al (duplikasyonları önle)\n",
        "unique_docs = []\n",
        "seen_content = set()\n",
        "for doc in all_retrieved_docs:\n",
        "    if doc.page_content not in seen_content:\n",
        "        unique_docs.append(doc)\n",
        "        seen_content.add(doc.page_content)\n",
        "\n",
        "print(f\"Toplam {len(unique_docs)} benzersiz doküman bulundu\")\n",
        "\n",
        "# 6. ChatGPT 4o Mini ile çoktan seçmeli soru üret\n",
        "llm = ChatOpenAI(openai_api_key=openai_api_key, model_name=\"gpt-4o-mini\")"
      ]
    },
    {
      "cell_type": "code",
      "execution_count": null,
      "metadata": {
        "colab": {
          "base_uri": "https://localhost:8080/"
        },
        "id": "9uCpq9Rpp61H",
        "outputId": "7aef5568-b8df-44e5-c250-2363d71fa715"
      },
      "outputs": [],
      "source": [
        "def generate_mcq(context, source_file):\n",
        "    prompt = f\"\"\"\n",
        "Based on the following scientific text about MOF toxicity, generate a challenging multiple-choice question (MCQ) with 4 options (A, B, C, D) related to the toxicity, cytotoxicity, or biocompatibility of MOFs. The question and options should be clear, relevant, and plausible. Indicate the correct answer at the end.\n",
        "\n",
        "Text:\n",
        "\\\"\\\"\\\"{context}\\\"\\\"\\\"\n",
        "Source: {source_file}\n",
        "\n",
        "Output format:\n",
        "Question: ...\n",
        "A) ...\n",
        "B) ...\n",
        "C) ...\n",
        "D) ...\n",
        "Correct answer: ...\n",
        "\"\"\"\n",
        "    return llm.predict(prompt)\n",
        "\n",
        "# 7. Sonuçları CSV'ye kaydet\n",
        "results = []\n",
        "for doc in unique_docs:\n",
        "    source_file = doc.metadata.get('source_file', 'Bilinmeyen kaynak')\n",
        "    mcq = generate_mcq(doc.page_content, source_file)\n",
        "    results.append({\n",
        "        \"context\": doc.page_content,\n",
        "        \"source_file\": source_file,\n",
        "        \"page_number\": doc.metadata.get('page', 'Bilinmeyen'),\n",
        "        \"mcq\": mcq\n",
        "    })\n",
        "\n",
        "df = pd.DataFrame(results)\n",
        "df.to_csv(\"mof_toxicity_mcq_benchmark.csv\", index=False)\n",
        "print(\"CSV dosyası kaydedildi: mof_toxicity_mcq_benchmark.csv\")\n",
        "\n",
        "# 8. HTML raporu oluştur (highlight edilmiş içerik)\n",
        "def highlight_keywords(text, keywords):\n",
        "    \"\"\"Metinde anahtar kelimeleri highlight et\"\"\"\n",
        "    for keyword in keywords:\n",
        "        text = text.replace(keyword, f'<span style=\"background-color: yellow; font-weight: bold;\">{keyword}</span>')\n",
        "    return text\n",
        "\n",
        "def generate_html_report(results):\n",
        "    html_content = f\"\"\"\n",
        "<!DOCTYPE html>\n",
        "<html>\n",
        "<head>\n",
        "    <title>MOF Toxicity MCQ Report</title>\n",
        "    <style>\n",
        "        body {{ font-family: Arial, sans-serif; margin: 20px; }}\n",
        "        .question-block {{ border: 1px solid #ddd; padding: 20px; margin: 20px 0; }}\n",
        "        .context {{ background-color: #f5f5f5; padding: 15px; margin: 10px 0; }}\n",
        "        .highlight {{ background-color: yellow; font-weight: bold; }}\n",
        "        .source-info {{ color: #666; font-size: 0.9em; }}\n",
        "        .mcq {{ background-color: #f9f9f9; padding: 10px; margin: 10px 0; }}\n",
        "        h1 {{ color: #333; }}\n",
        "        h2 {{ color: #555; }}\n",
        "    </style>\n",
        "</head>\n",
        "<body>\n",
        "    <h1>MOF Toxicity MCQ Benchmark Report</h1>\n",
        "    <p>Generated on: {datetime.now().strftime('%Y-%m-%d %H:%M:%S')}</p>\n",
        "    <p>Total questions: {len(results)}</p>\n",
        "    <hr>\n",
        "\"\"\"\n",
        "\n",
        "    toxicity_keywords = [\"toxic\", \"toxicity\", \"cytotoxic\", \"biocompatible\", \"viability\", \"safety\", \"harmful\", \"cytotoxicity\"]\n",
        "\n",
        "    for i, result in enumerate(results, 1):\n",
        "        highlighted_context = highlight_keywords(result['context'], toxicity_keywords)\n",
        "\n",
        "        html_content += f\"\"\"\n",
        "        <div class=\"question-block\">\n",
        "            <h2>Question {i}</h2>\n",
        "            <div class=\"source-info\">\n",
        "                <strong>Source:</strong> {result['source_file']} |\n",
        "                <strong>Page:</strong> {result['page_number']}\n",
        "            </div>\n",
        "\n",
        "            <h3>Context:</h3>\n",
        "            <div class=\"context\">{highlighted_context}</div>\n",
        "\n",
        "            <h3>Generated MCQ:</h3>\n",
        "            <div class=\"mcq\">\n",
        "                <pre>{html.escape(result['mcq'])}</pre>\n",
        "            </div>\n",
        "        </div>\n",
        "        <hr>\n",
        "        \"\"\"\n",
        "\n",
        "    html_content += \"\"\"\n",
        "    </body>\n",
        "    </html>\n",
        "    \"\"\"\n",
        "\n",
        "    return html_content\n",
        "\n",
        "# HTML raporu kaydet\n",
        "html_report = generate_html_report(results)\n",
        "with open(\"mof_toxicity_mcq_report.html\", \"w\", encoding=\"utf-8\") as f:\n",
        "    f.write(html_report)\n",
        "print(\"HTML raporu kaydedildi: mof_toxicity_mcq_report.html\")\n"
      ]
    }
  ],
  "metadata": {
    "colab": {
      "provenance": []
    },
    "kernelspec": {
      "display_name": "mofenv",
      "language": "python",
      "name": "python3"
    },
    "language_info": {
      "name": "python",
      "version": "3.13.3"
    }
  },
  "nbformat": 4,
  "nbformat_minor": 0
}
